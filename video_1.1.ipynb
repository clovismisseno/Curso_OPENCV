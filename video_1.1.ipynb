{
 "cells": [
  {
   "cell_type": "markdown",
   "id": "3d64ff9b",
   "metadata": {},
   "source": [
    "# instalação"
   ]
  },
  {
   "cell_type": "markdown",
   "id": "35c6850a",
   "metadata": {},
   "source": [
    "Instalação OpenCV - conda install -c conde-forge opencv=3.4.3<br/>\n",
    "Instalação jupyter - conda install jupyter<br/>\n",
    "Instalação dlib - conda install -c conde-forge dlib\n"
   ]
  },
  {
   "cell_type": "code",
   "execution_count": 1,
   "id": "77f5e5e2",
   "metadata": {
    "ExecuteTime": {
     "end_time": "2021-07-12T21:45:46.229021Z",
     "start_time": "2021-07-12T21:45:45.253639Z"
    }
   },
   "outputs": [],
   "source": [
    "import cv2"
   ]
  },
  {
   "cell_type": "code",
   "execution_count": 8,
   "id": "2db4331f",
   "metadata": {
    "ExecuteTime": {
     "end_time": "2021-07-12T21:50:15.105146Z",
     "start_time": "2021-07-12T21:50:15.095157Z"
    }
   },
   "outputs": [
    {
     "name": "stdout",
     "output_type": "stream",
     "text": [
      "3.4.3\n"
     ]
    }
   ],
   "source": [
    "print(cv2.__version__)"
   ]
  },
  {
   "cell_type": "code",
   "execution_count": 9,
   "id": "cd212067",
   "metadata": {
    "ExecuteTime": {
     "end_time": "2021-07-12T21:51:28.680752Z",
     "start_time": "2021-07-12T21:51:28.627576Z"
    }
   },
   "outputs": [],
   "source": [
    "import dlib"
   ]
  },
  {
   "cell_type": "code",
   "execution_count": 10,
   "id": "8856e18f",
   "metadata": {
    "ExecuteTime": {
     "end_time": "2021-07-12T21:51:45.832551Z",
     "start_time": "2021-07-12T21:51:45.818559Z"
    }
   },
   "outputs": [
    {
     "name": "stdout",
     "output_type": "stream",
     "text": [
      "19.22.0\n"
     ]
    }
   ],
   "source": [
    "print(dlib.__doc)"
   ]
  },
  {
   "cell_type": "code",
   "execution_count": 3,
   "id": "f0104394",
   "metadata": {
    "ExecuteTime": {
     "end_time": "2021-07-12T22:03:56.261669Z",
     "start_time": "2021-07-12T22:03:55.880771Z"
    }
   },
   "outputs": [],
   "source": [
    "import matplotlib.pyplot as plt"
   ]
  },
  {
   "cell_type": "code",
   "execution_count": 6,
   "id": "9a731813",
   "metadata": {
    "ExecuteTime": {
     "end_time": "2021-07-12T22:11:39.947786Z",
     "start_time": "2021-07-12T22:11:38.809201Z"
    }
   },
   "outputs": [],
   "source": [
    "import seaborn"
   ]
  },
  {
   "cell_type": "code",
   "execution_count": null,
   "id": "5e17c8c7",
   "metadata": {},
   "outputs": [],
   "source": []
  }
 ],
 "metadata": {
  "kernelspec": {
   "display_name": "Python 3",
   "language": "python",
   "name": "python3"
  },
  "language_info": {
   "codemirror_mode": {
    "name": "ipython",
    "version": 3
   },
   "file_extension": ".py",
   "mimetype": "text/x-python",
   "name": "python",
   "nbconvert_exporter": "python",
   "pygments_lexer": "ipython3",
   "version": "3.6.13"
  },
  "toc": {
   "base_numbering": 1,
   "nav_menu": {},
   "number_sections": true,
   "sideBar": true,
   "skip_h1_title": false,
   "title_cell": "Table of Contents",
   "title_sidebar": "Contents",
   "toc_cell": false,
   "toc_position": {},
   "toc_section_display": true,
   "toc_window_display": false
  },
  "varInspector": {
   "cols": {
    "lenName": 16,
    "lenType": 16,
    "lenVar": 40
   },
   "kernels_config": {
    "python": {
     "delete_cmd_postfix": "",
     "delete_cmd_prefix": "del ",
     "library": "var_list.py",
     "varRefreshCmd": "print(var_dic_list())"
    },
    "r": {
     "delete_cmd_postfix": ") ",
     "delete_cmd_prefix": "rm(",
     "library": "var_list.r",
     "varRefreshCmd": "cat(var_dic_list()) "
    }
   },
   "types_to_exclude": [
    "module",
    "function",
    "builtin_function_or_method",
    "instance",
    "_Feature"
   ],
   "window_display": false
  }
 },
 "nbformat": 4,
 "nbformat_minor": 5
}
